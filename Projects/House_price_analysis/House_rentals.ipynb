{
 "cells": [
  {
   "cell_type": "markdown",
   "metadata": {},
   "source": [
    "# Prediction of Rental prices of  Apartments in and around KPHB\n",
    "\n",
    "**OBJECTIVE** : Prediction of Apartment rental prices (posted by house owners) in KPHB.\n",
    "    \n",
    "**STEPS** : To achieve the above task, we are supposed to perform a series of sub tasks. Below are the sub tasks:\n",
    "        \n",
    "            1) Data Collection\n",
    "            2) Data Cleansing\n",
    "            3) Data Visualization\n",
    "            4) Data Preprocessing\n",
    "            5) Machine learning model ( Regression model)\n",
    "            \n",
    "We will go though each subtask in detail in below cells. Here we go :\n",
    " "
   ]
  },
  {
   "cell_type": "markdown",
   "metadata": {},
   "source": [
    "# T1 : Data Collection\n",
    "    \n",
    "Data collection is the first and foremost thing before we do anything. Data can be available in any format such files, database tables,audios,videos etc.\n",
    "\n",
    "However , in our case we dont have any prepared dataset to work with. Data related to our project is available on **Housing.com** website which is posted by house owners. Many more websites do have rental details but I found housing.com has more results set and hence i chose that.\n",
    "\n",
    "In general, If data is present on website ,then we need to extract infromation either using **API calls** or **scraping**. Since **Housing.com** didnt provide any API to access information and hence we will develop a **scraper** which can grab the infromation from website which we are looking for.\n",
    "\n",
    "Without wasting our time lets do some code\n",
    "    \n",
    "Before we code, make sure that below modules are installed in your environment. Im using CONDA environment and so most of the packages are pre installed. If you are working on some other environment which doesnt has these packages pre installed try below command in your command prompt line inorder to download them.\n",
    "    \n",
    "**pip install module name**\n"
   ]
  },
  {
   "cell_type": "code",
   "execution_count": 1,
   "metadata": {},
   "outputs": [],
   "source": [
    "from selenium import webdriver\n",
    "from selenium.webdriver.chrome.options import Options\n",
    "import time\n",
    "from bs4 import BeautifulSoup as bs\n",
    "import numpy as np\n",
    "import pandas as pd\n",
    "from matplotlib import pyplot as plt\n",
    "import html\n",
    "import seaborn as sn\n",
    "from sklearn import model_selection\n",
    "from sklearn.linear_model import LinearRegression\n",
    "from sklearn import metrics"
   ]
  },
  {
   "cell_type": "markdown",
   "metadata": {},
   "source": [
    "I have imported modules and now we will see why we need these modules. I will give a one line description about these packages:\n",
    "    \n",
    "**Selenium** : Used to automate web browsing operations such as opening,scrolling,click on links ,closing etc.. and extract the information stored in html tags using HTTP protocols.\n",
    "    \n",
    "**Time** : used to delay process in this project, but there is lot more scope so check documenation available for time module \n",
    "    \n",
    "**Beautiful soup**: used to extract information from websites\n",
    "    \n",
    "**Pandas** : used to perform exploratory analysis\n",
    "    \n",
    "**Matplotlib** : to create visual plots based on data\n",
    "    \n",
    "**HTML** : used to parse html tags in this project but there is lot more scope so check documenation available for html module\n",
    "\n",
    "**Sklearn** : used to build machine learning models\n",
    "        \n",
    "Coming to data collection part, we are using selenium to automate the opening ,scrolling down,extract page source (containing html tags) and closing page operations. Beautiful soup is to extract data from page source.\n",
    "\n",
    "We are looking to scrape information such as price,no of bedrooms,address,house type(apartments or independent houses or villas),Area and other details for each house listed on website.\n",
    "\n",
    "Here is **scraper** code :\n",
    "\n"
   ]
  },
  {
   "cell_type": "code",
   "execution_count": 2,
   "metadata": {},
   "outputs": [
    {
     "name": "stdout",
     "output_type": "stream",
     "text": [
      "No of scroll downs made by webdriver : 92\n"
     ]
    }
   ],
   "source": [
    "chrome_options = Options()\n",
    "chrome_options.add_argument(\"--headless\")\n",
    "\n",
    "driver=webdriver.Chrome(options=chrome_options)\n",
    "\n",
    "driver.get(\"https://housing.com/rent/search-Eg5yr\")\n",
    "\n",
    "last_height = driver.execute_script(\"return document.body.scrollHeight\")\n",
    "\n",
    "i=1\n",
    "\n",
    "\n",
    "while True:\n",
    "    driver.execute_script(\"window.scrollTo(0, document.body.scrollHeight);\")\n",
    "    time.sleep(10)\n",
    "    new_height = driver.execute_script(\"return document.body.scrollHeight\")\n",
    "    if new_height == last_height:\n",
    "        break\n",
    "    last_height = new_height\n",
    "    i=i+1\n",
    "\n",
    "html=driver.page_source\n",
    "driver.close()\n",
    "print(f'No of scroll downs made by webdriver : {i}')\n"
   ]
  },
  {
   "cell_type": "code",
   "execution_count": 3,
   "metadata": {},
   "outputs": [],
   "source": [
    "page=bs(html,\"html.parser\")\n",
    "elements=page.findAll(\"article\",{\"class\":\"css-8jw9t9\"})\n",
    "\n",
    "records_set=[]\n",
    "for i in elements:\n",
    "    price=i.find(\"div\",{\"data-q\":\"price\"})\n",
    "    details=i.find(\"a\",{\"class\":\"css-dk6esa\"})\n",
    "    address=i.find(\"a\",{\"data-q\":\"address\"})\n",
    "    features=i.findAll(\"span\",{\"class\":\"css-wze9ea\"})\n",
    "    if(len(features)>1): \n",
    "        records_set.append([price.text,details.text,address.text,features[0].text,features[1].text])\n",
    "    else:\n",
    "        records_set.append([price.text,details.text,address.text,None,None])"
   ]
  },
  {
   "cell_type": "markdown",
   "metadata": {},
   "source": [
    "Above code performs the below tasks in sequential order :\n",
    "    \n",
    "1) Selecting the browser to open the website. Here you can select Firefox or chrome. (It automatically opens window)\n",
    "\n",
    "2) Enter url **Housing.com** in chrome window (automated)\n",
    "\n",
    "3) Scrolling down to the end of the page where no more loading happens. We usually see this in e commerce websites.\n",
    "\n",
    "4) Now the page is loaded completely, we extract page source (containing html tags and data embed)\n",
    "\n",
    "5) Close driver (now it automatically closes window if the above commands worked fine without error)\n",
    "\n",
    "6) Parse the page source using beautiful soup with html parser.\n",
    "\n",
    "7) Find the elements where the data resides in parsed page source.\n",
    "\n",
    "8) loop through elemnts and extract the data in form of 2d lists."
   ]
  },
  {
   "cell_type": "markdown",
   "metadata": {},
   "source": [
    "# T2: Data Cleansing\n",
    "\n",
    "This is the most important part of data analysis. We need to check for missing data or nulls, datatypes,duplicates etc.. to proceed to data analysis.\n",
    "\n",
    "Now that we have list as result from above code. We will import data to dataframe (table like structure) and specify field names."
   ]
  },
  {
   "cell_type": "code",
   "execution_count": 4,
   "metadata": {},
   "outputs": [
    {
     "name": "stdout",
     "output_type": "stream",
     "text": [
      "    Price                  Details  \\\n",
      "0  15,700  2 BHK Independent House   \n",
      "1   9,500          1 BHK Apartment   \n",
      "2  14,000          1 BHK Apartment   \n",
      "3  25,000          3 BHK Apartment   \n",
      "4  19,000          1 BHK Apartment   \n",
      "\n",
      "                                             Address         features  \\\n",
      "0              Jal Vayu Vihar, Kukatpally, Hyderabad  Fully Furnished   \n",
      "1                  Tulasi Nagar, Madhapur, Hyderabad      Unfurnished   \n",
      "2  Jubliee Annex, Chanda Naik Nagar, Madhapur, Hy...   Semi Furnished   \n",
      "3             Vasantha Nagar, Hyder Nagar, Hyderabad   Semi Furnished   \n",
      "4  Jubliee Annex, Chanda Naik Nagar, Madhapur, Hy...  Fully Furnished   \n",
      "\n",
      "         Area  \n",
      "0  1100 sq.ft  \n",
      "1   600 sq.ft  \n",
      "2   650 sq.ft  \n",
      "3  1600 sq.ft  \n",
      "4   800 sq.ft  \n"
     ]
    }
   ],
   "source": [
    "df=pd.DataFrame(records_set)\n",
    "df.columns=[\"Price\",\"Details\",\"Address\",\"features\",\"Area\"]\n",
    "print(df.head())"
   ]
  },
  {
   "cell_type": "markdown",
   "metadata": {},
   "source": [
    "Now we will see for nulls in data throughout the dataframe. so we are using describe function to get counts"
   ]
  },
  {
   "cell_type": "code",
   "execution_count": 5,
   "metadata": {},
   "outputs": [
    {
     "name": "stdout",
     "output_type": "stream",
     "text": [
      "<class 'pandas.core.frame.DataFrame'>\n",
      "RangeIndex: 1804 entries, 0 to 1803\n",
      "Data columns (total 5 columns):\n",
      "Price       1804 non-null object\n",
      "Details     1804 non-null object\n",
      "Address     1804 non-null object\n",
      "features    1804 non-null object\n",
      "Area        1804 non-null object\n",
      "dtypes: object(5)\n",
      "memory usage: 70.6+ KB\n"
     ]
    }
   ],
   "source": [
    "df.info()\n",
    "df.drop(df[df.Details=='Studio Apartment'].index,axis=0,inplace=True)"
   ]
  },
  {
   "cell_type": "markdown",
   "metadata": {},
   "source": [
    "So it seems like the counts are equal for all columns so we dont have any missing values. Thats great !\n",
    "\n",
    "Now lets proceed further casting datatypes to perform some numerical operations\n"
   ]
  },
  {
   "cell_type": "code",
   "execution_count": 6,
   "metadata": {},
   "outputs": [],
   "source": [
    "df[\"Bedrooms\"]=df[\"Details\"].apply(lambda x:x.split(\" \")[0])\n",
    "df[\"House_type\"]=df[\"Details\"].apply(lambda x:x.split(\" \")[2])\n",
    "df[\"Area\"]=df[\"Area\"].apply(lambda x:float(x.split(\" \")[0]))\n",
    "df[\"Price\"]=df[\"Price\"].apply(lambda x:int(\"\".join(x.split(\",\"))))\n",
    "df[[\"Address\",\"features\",\"House_type\"]]=df[[\"Address\",\"features\",\"House_type\"]].astype(str)\n",
    "df=df[(df.Bedrooms!='2.5')&(df.Bedrooms!='5+')]\n",
    "df['Bedrooms']=df.Bedrooms.astype(int)"
   ]
  },
  {
   "cell_type": "markdown",
   "metadata": {},
   "source": [
    "There might be a chance of a person placing the same advertisement multiple times on website. Hence we are removing the duplicates."
   ]
  },
  {
   "cell_type": "code",
   "execution_count": 7,
   "metadata": {},
   "outputs": [
    {
     "data": {
      "text/plain": [
       "Price         1470\n",
       "Details       1470\n",
       "Address       1470\n",
       "features      1470\n",
       "Area          1470\n",
       "Bedrooms      1470\n",
       "House_type    1470\n",
       "dtype: int64"
      ]
     },
     "execution_count": 7,
     "metadata": {},
     "output_type": "execute_result"
    }
   ],
   "source": [
    "df.drop_duplicates(keep='first',inplace=True)\n",
    "df.count()"
   ]
  },
  {
   "cell_type": "markdown",
   "metadata": {},
   "source": [
    "Load data to csv file. Its always good practice to keep files as logs for further analysis. Howver we will work on existing data frames in further analysis."
   ]
  },
  {
   "cell_type": "code",
   "execution_count": 8,
   "metadata": {},
   "outputs": [],
   "source": [
    "df.to_csv(\"house_rentals_kphb.csv\",header=True,index=False,mode='w')"
   ]
  },
  {
   "cell_type": "code",
   "execution_count": 9,
   "metadata": {},
   "outputs": [],
   "source": [
    "df1=pd.read_csv(\"house_rentals_kphb.csv\",header=0)\n",
    "df1.drop(df1[(df1['House_type']!='Apartment')|(df1['Details']=='1 RK Apartment')].index,axis=0,inplace=True)\n",
    "df1=df1.sort_values('Area',ascending=False)"
   ]
  },
  {
   "cell_type": "markdown",
   "metadata": {},
   "source": [
    "# T3 : Data Visualization\n",
    "\n",
    "This task is something which we cant ignore because this is the only way we can show our business clients about the data we worked on. Numbers are helpful but without plot, it doesnt make any sense. \n",
    "\n",
    "If we miss this out, there is a chance of losing some critical infromation which numbers didnt say. So its must and should for every analyst to work on.\n",
    "\n",
    "Coming back to topic, there is correlation matrix but I want to visualize it to see how well they are correlated. For now we will see correlation between price and other variables."
   ]
  },
  {
   "cell_type": "code",
   "execution_count": 10,
   "metadata": {},
   "outputs": [
    {
     "data": {
      "text/html": [
       "<div>\n",
       "<style scoped>\n",
       "    .dataframe tbody tr th:only-of-type {\n",
       "        vertical-align: middle;\n",
       "    }\n",
       "\n",
       "    .dataframe tbody tr th {\n",
       "        vertical-align: top;\n",
       "    }\n",
       "\n",
       "    .dataframe thead th {\n",
       "        text-align: right;\n",
       "    }\n",
       "</style>\n",
       "<table border=\"1\" class=\"dataframe\">\n",
       "  <thead>\n",
       "    <tr style=\"text-align: right;\">\n",
       "      <th></th>\n",
       "      <th>Price</th>\n",
       "      <th>Area</th>\n",
       "      <th>Bedrooms</th>\n",
       "    </tr>\n",
       "  </thead>\n",
       "  <tbody>\n",
       "    <tr>\n",
       "      <td>Price</td>\n",
       "      <td>1.000000</td>\n",
       "      <td>0.638265</td>\n",
       "      <td>0.581031</td>\n",
       "    </tr>\n",
       "    <tr>\n",
       "      <td>Area</td>\n",
       "      <td>0.638265</td>\n",
       "      <td>1.000000</td>\n",
       "      <td>0.718675</td>\n",
       "    </tr>\n",
       "    <tr>\n",
       "      <td>Bedrooms</td>\n",
       "      <td>0.581031</td>\n",
       "      <td>0.718675</td>\n",
       "      <td>1.000000</td>\n",
       "    </tr>\n",
       "  </tbody>\n",
       "</table>\n",
       "</div>"
      ],
      "text/plain": [
       "             Price      Area  Bedrooms\n",
       "Price     1.000000  0.638265  0.581031\n",
       "Area      0.638265  1.000000  0.718675\n",
       "Bedrooms  0.581031  0.718675  1.000000"
      ]
     },
     "execution_count": 10,
     "metadata": {},
     "output_type": "execute_result"
    }
   ],
   "source": [
    "df1.corr()"
   ]
  },
  {
   "cell_type": "markdown",
   "metadata": {},
   "source": [
    "**Below are my observations**:(after checking correlation matrix)\n",
    "\n",
    "1) It is clear that feature Area and Bedrooms has strong relationship. But it is pretty much expected that when number of Bedrooms increases Area does increase.\n",
    "\n",
    "2) When it comes to relation with Price, all three features exhibits positive relationship. But the strenth of relationship is higher in Area feature. If you see clearly in above area vs price plot, outliers are present. Outliers will affect the correlation coeffecient. "
   ]
  },
  {
   "cell_type": "code",
   "execution_count": 11,
   "metadata": {},
   "outputs": [
    {
     "data": {
      "image/png": "[encoded data removed]",
      "text/plain": [
       "<Figure size 800x480 with 1 Axes>"
      ]
     },
     "metadata": {
      "needs_background": "light"
     },
     "output_type": "display_data"
    }
   ],
   "source": [
    "plt.figure(figsize=(10,6),dpi=80)\n",
    "plt.scatter(df1['Area'],df1['Price'])\n",
    "\n",
    "plt.show()"
   ]
  },
  {
   "cell_type": "markdown",
   "metadata": {},
   "source": [
    "We plotted Price and Area information on **scatter** plot to see how data points are spread out. \n",
    "\n",
    "**Below are my observations** :\n",
    "\n",
    "1) Seems like there is a linear relationship between these varibales. But we cannot conclude the kind of relationship, before we explore more. Practically speaking, relationship between **Area** and **Price** is linear most of the times. But we will observe that using Quantile-Quantile plot and see.\n",
    "\n",
    "3) There are few data points, which are far away from densely populated points,  they are outliers. We will remove them using median based method. But we will surely analyze the outliers in next update."
   ]
  },
  {
   "cell_type": "markdown",
   "metadata": {},
   "source": [
    "## Removal of outliers\n",
    "\n",
    "Outlier are the data points which will affect the relationship between variables and eventually it even affects prediction model too which will be discussed in later stage.\n",
    "\n",
    "For now, we will focus on removing outliers. Since we are dealing with bi variate data, we created a another variable named **ind** which contains values calculated by dividing Price with Area.\n",
    "\n",
    "Main idea for creating above variable is to combine both variables data in one which makes some sense. It is quite simple to remove outliers in univariate data and so i I've chosen this approach.\n",
    "\n",
    "Now we have got a variable name **ind** with values, we will now proceed with removing outliers.\n",
    "\n",
    "we have got many options to remove outliers, but i've chosen Quantile based method( median based) because it is simple and effective. You can check quantile based method on google for clear understanding.\n",
    "\n"
   ]
  },
  {
   "cell_type": "code",
   "execution_count": 12,
   "metadata": {},
   "outputs": [
    {
     "data": {
      "image/png": "[encoded data removed]",
      "text/plain": [
       "<Figure size 1500x800 with 2 Axes>"
      ]
     },
     "metadata": {
      "needs_background": "light"
     },
     "output_type": "display_data"
    }
   ],
   "source": [
    "df1['ind']=df1['Price']/df1['Area']\n",
    "\n",
    "fig,ax=plt.subplots(1,2,figsize=(15,8),dpi=100,sharey=True)\n",
    "\n",
    "sn.boxplot(df1.ind,showfliers=True,orient='v',ax=ax[0])\n",
    "\n",
    "ax[0].set_title('Before outlier removal')\n",
    "\n",
    "ub=df1.ind.quantile(0.75)\n",
    "lb=df1.ind.quantile(0.25)\n",
    "ex=(ub-lb)*1.5\n",
    "\n",
    "df2=df1.drop(df1[(df1.ind>=(ub+ex))|(df1.ind<=(lb-ex))].index,axis=0)\n",
    "\n",
    "sn.boxplot(df2.ind,showfliers=True,orient='v',ax=ax[1])\n",
    "\n",
    "ax[1].set_title('After outlier removal')\n",
    "\n",
    "plt.show()\n",
    "\n"
   ]
  },
  {
   "cell_type": "markdown",
   "metadata": {},
   "source": [
    "Median and other quantiles are not affected by presence of outliers whereas mean is highly sensitive and hence we used quantile based approach (median based ) for outlier removal. "
   ]
  },
  {
   "cell_type": "code",
   "execution_count": 13,
   "metadata": {},
   "outputs": [
    {
     "data": {
      "image/png": "[encoded data removed]",
      "text/plain": [
       "<Figure size 800x480 with 1 Axes>"
      ]
     },
     "metadata": {
      "needs_background": "light"
     },
     "output_type": "display_data"
    }
   ],
   "source": [
    "plt.figure(figsize=(10,6),dpi=80)\n",
    "plt.scatter(df2['Area'],df2['Price'])\n",
    "\n",
    "plt.show()"
   ]
  },
  {
   "cell_type": "code",
   "execution_count": 14,
   "metadata": {},
   "outputs": [
    {
     "data": {
      "text/html": [
       "<div>\n",
       "<style scoped>\n",
       "    .dataframe tbody tr th:only-of-type {\n",
       "        vertical-align: middle;\n",
       "    }\n",
       "\n",
       "    .dataframe tbody tr th {\n",
       "        vertical-align: top;\n",
       "    }\n",
       "\n",
       "    .dataframe thead th {\n",
       "        text-align: right;\n",
       "    }\n",
       "</style>\n",
       "<table border=\"1\" class=\"dataframe\">\n",
       "  <thead>\n",
       "    <tr style=\"text-align: right;\">\n",
       "      <th></th>\n",
       "      <th>Price</th>\n",
       "      <th>Area</th>\n",
       "      <th>Bedrooms</th>\n",
       "      <th>ind</th>\n",
       "    </tr>\n",
       "  </thead>\n",
       "  <tbody>\n",
       "    <tr>\n",
       "      <td>Price</td>\n",
       "      <td>1.000000</td>\n",
       "      <td>0.846003</td>\n",
       "      <td>0.695748</td>\n",
       "      <td>0.440715</td>\n",
       "    </tr>\n",
       "    <tr>\n",
       "      <td>Area</td>\n",
       "      <td>0.846003</td>\n",
       "      <td>1.000000</td>\n",
       "      <td>0.841287</td>\n",
       "      <td>-0.054355</td>\n",
       "    </tr>\n",
       "    <tr>\n",
       "      <td>Bedrooms</td>\n",
       "      <td>0.695748</td>\n",
       "      <td>0.841287</td>\n",
       "      <td>1.000000</td>\n",
       "      <td>-0.051929</td>\n",
       "    </tr>\n",
       "    <tr>\n",
       "      <td>ind</td>\n",
       "      <td>0.440715</td>\n",
       "      <td>-0.054355</td>\n",
       "      <td>-0.051929</td>\n",
       "      <td>1.000000</td>\n",
       "    </tr>\n",
       "  </tbody>\n",
       "</table>\n",
       "</div>"
      ],
      "text/plain": [
       "             Price      Area  Bedrooms       ind\n",
       "Price     1.000000  0.846003  0.695748  0.440715\n",
       "Area      0.846003  1.000000  0.841287 -0.054355\n",
       "Bedrooms  0.695748  0.841287  1.000000 -0.051929\n",
       "ind       0.440715 -0.054355 -0.051929  1.000000"
      ]
     },
     "execution_count": 14,
     "metadata": {},
     "output_type": "execute_result"
    }
   ],
   "source": [
    "df2.corr()"
   ]
  },
  {
   "cell_type": "markdown",
   "metadata": {},
   "source": [
    "- After reomval of outliers we are able to attain a very good correlation coeffecient between Price( dependent variable) and other independent variables ( Area, Bedrooms).\n",
    "\n",
    "\n",
    "- But if we use both the independent variables in model building, we might overfit the data. This may lead to more biased model. Although there is strong relation between dependent and independent variable. it is observed that there is collinearity present among independent variables. \n",
    "\n",
    "\n",
    "\n",
    "- Inorder to avoid over fit, it is always good to consider only one variable which is **Area**. The reason for choosing **Area** is because it has much stronger correlation coefficient with **Price** than **Bedrooms**."
   ]
  },
  {
   "cell_type": "markdown",
   "metadata": {},
   "source": [
    "## Data preprocessing\n",
    "\n",
    "Here we are going to convert categorical data into numeric data so that even categorical variables can also be used for Regression analysis. "
   ]
  },
  {
   "cell_type": "code",
   "execution_count": 15,
   "metadata": {},
   "outputs": [],
   "source": [
    "df2=df2.sort_values('Area',ascending=True).reset_index(drop=True)\n",
    "\n",
    "dummies=pd.get_dummies(df2['features'],drop_first=True)\n",
    "\n",
    "df2=pd.concat([df2,dummies],axis=1)"
   ]
  },
  {
   "cell_type": "code",
   "execution_count": 26,
   "metadata": {},
   "outputs": [],
   "source": [
    "X_train, X_test, y_train, y_test=model_selection.train_test_split(df2[['Area','Semi Furnished','Unfurnished']],df2['Price'],train_size=0.80,random_state=42)"
   ]
  },
  {
   "cell_type": "markdown",
   "metadata": {},
   "source": [
    "Among the categorical variables, there is one variable which actually affects the indepenent variables. It holds the information whether the apartment is unfurnished, semifurnished or fully furnished. Practically speaking, Retal prices surely variy with this infromation. And hence we will using this variable in regression model. "
   ]
  },
  {
   "cell_type": "markdown",
   "metadata": {},
   "source": [
    "## Regression model"
   ]
  },
  {
   "cell_type": "code",
   "execution_count": 27,
   "metadata": {},
   "outputs": [
    {
     "data": {
      "text/plain": [
       "LinearRegression(copy_X=True, fit_intercept=True, n_jobs=None, normalize=False)"
      ]
     },
     "execution_count": 27,
     "metadata": {},
     "output_type": "execute_result"
    }
   ],
   "source": [
    "model=LinearRegression()\n",
    "\n",
    "model.fit(X_train,y_train)"
   ]
  },
  {
   "cell_type": "code",
   "execution_count": 28,
   "metadata": {},
   "outputs": [],
   "source": [
    "df2['place']=df2['Address'].str.split(',').str[-2].str.strip(' ')"
   ]
  },
  {
   "cell_type": "code",
   "execution_count": 29,
   "metadata": {},
   "outputs": [
    {
     "name": "stdout",
     "output_type": "stream",
     "text": [
      "[   17.69120026 -4449.83929298 -5875.75515441] 3409.8470728332286\n",
      "r-squared value : 0.86\n",
      "mean squared error : 34372713.73\n",
      "Root mean squared error : 5862.824722776556\n"
     ]
    }
   ],
   "source": [
    "pred=model.predict(X_test).flatten()\n",
    "\n",
    "print(model.coef_.flatten(),model.intercept_)\n",
    "\n",
    "print('r-squared value : {}'.format(round(metrics.r2_score(y_test,pred),2)))\n",
    "\n",
    "print('mean squared error : {}'.format(round(metrics.mean_squared_error(y_test,pred),2)))\n",
    "\n",
    "print('Root mean squared error : {}'.format(np.sqrt(round(metrics.mean_squared_error(y_test,pred),2)))) "
   ]
  },
  {
   "cell_type": "markdown",
   "metadata": {},
   "source": [
    "**R squared** value indicates the percentage of the variance in the dependent variable that the independent variables explain collectively. In our case it is 0.86 or 86%, which says variance in dependent variable is well explained by the regression line.\n",
    "\n",
    "**Root mean squared error** explains how far the actual data points are located from regression line or predicted line. RMSE is key for OLS ( ordinary least squares) models because the objective of this model is to minimize the error caused by prediction line. And hence less error much better model. RMSE is highly sensitive to outliers and so as regression line. It is good check for outliers in data before building model. "
   ]
  }
 ],
 "metadata": {
  "kernelspec": {
   "display_name": "Python 3",
   "language": "python",
   "name": "python3"
  },
  "language_info": {
   "codemirror_mode": {
    "name": "ipython",
    "version": 3
   },
   "file_extension": ".py",
   "mimetype": "text/x-python",
   "name": "python",
   "nbconvert_exporter": "python",
   "pygments_lexer": "ipython3",
   "version": "3.7.4"
  }
 },
 "nbformat": 4,
 "nbformat_minor": 2
}
