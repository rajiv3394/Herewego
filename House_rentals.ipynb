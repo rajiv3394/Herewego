{
 "cells": [
  {
   "cell_type": "code",
   "execution_count": 27,
   "metadata": {},
   "outputs": [],
   "source": [
    "## Required modules for below analysis.\n",
    "\n",
    "from selenium import webdriver\n",
    "import time\n",
    "from bs4 import BeautifulSoup as bs\n",
    "import pandas as pd\n",
    "from matplotlib import pyplot as plt\n",
    "import html"
   ]
  },
  {
   "cell_type": "code",
   "execution_count": 28,
   "metadata": {},
   "outputs": [],
   "source": [
    "## Extraction of data related to house rentals (location : Nizampet) from website housing.com using scraping packages. \n",
    "\n",
    "##Selenium package is used to interact with websites though http protocols to extract information from website and Beautiful soup for extracting information from particular tags. It can be done using selenium alone, again it is upto developers preference.\n",
    "\n",
    "## First step - Opening chrome browser without manual intervention using selenium . Before we proceed further, make sure that chromedriver is installed on your OS.\n",
    "\n",
    "driver=webdriver.Chrome()\n",
    "\n",
    "## request the website for page content\n",
    "\n",
    "driver.get(\"https://housing.com/rent/search-P1wkiyiuy2aujb8n2\")\n",
    "\n",
    "## scroll down to end of the page untill no content is loaded further. This step is applied to webistes which has infinite scrolling lik we see in e commerce websites.\n",
    "\n",
    "for i in range(1,15):\n",
    "    driver.execute_script(\"window.scrollTo(0, document.body.scrollHeight);\")\n",
    "    time.sleep(4)\n",
    "html=driver.page_source\n",
    "driver.close()\n",
    "page=bs(html,\"html.parser\")\n",
    "\n",
    "## finding html tags containing rental details such as price,place,no of bedrooms,Area etc...\n",
    "\n",
    "elements=page.findAll(\"article\",{\"class\":\"css-8jw9t9\"})"
   ]
  },
  {
   "cell_type": "code",
   "execution_count": 29,
   "metadata": {},
   "outputs": [],
   "source": [
    "## loop though all the tags and collect info and store them in lists.\n",
    "\n",
    "records_set=[]\n",
    "for i in elements:\n",
    "    price=i.find(\"div\",{\"data-q\":\"price\"})\n",
    "    details=i.find(\"a\",{\"class\":\"css-dk6esa\"})\n",
    "    address=i.find(\"a\",{\"data-q\":\"address\"})\n",
    "    features=i.findAll(\"span\",{\"class\":\"css-1kdq3fk\"})\n",
    "    records_set.append([price.text,details.text,address.text,features[0].text,features[1].text])"
   ]
  },
  {
   "cell_type": "code",
   "execution_count": 30,
   "metadata": {},
   "outputs": [
    {
     "name": "stdout",
     "output_type": "stream",
     "text": [
      "         Price          Details                         Address  \\\n",
      "count      109              109                             109   \n",
      "unique      26               11                              67   \n",
      "top     15,000  2 BHK Apartment  Vasanth Nagar Colony, Nizampet   \n",
      "freq        18               48                              21   \n",
      "\n",
      "              features        Area  \n",
      "count              109         109  \n",
      "unique               3          51  \n",
      "top     Semi Furnished  1100 sq.ft  \n",
      "freq                53          13  \n"
     ]
    }
   ],
   "source": [
    "## import data from list to dataframe for analysis\n",
    "\n",
    "df=pd.DataFrame(records_set)\n",
    "df.columns=[\"Price\",\"Details\",\"Address\",\"features\",\"Area\"]\n",
    "\n",
    "## Check for nulls present in all columns using below code\n",
    "\n",
    "df.describe()\n",
    "\n",
    "## Found no missing values and so we move on to next part of data pre- processing\n",
    "\n",
    "## Type conversions for columns inorder to apply some filtering as well as aggregations operations.\n",
    "\n",
    "df[\"Bedrooms\"]=df[\"Details\"].apply(lambda x:int(x.split(\" \")[0]))\n",
    "df[\"House_type\"]=df[\"Details\"].apply(lambda x:x.split(\" \")[2])\n",
    "df.drop(columns=[\"Details\"],inplace=True)\n",
    "df[\"Area\"]=df[\"Area\"].apply(lambda x:float(x.split(\" \")[0]))\n",
    "df[\"Price\"]=df[\"Price\"].apply(lambda x:int(\"\".join(x.split(\",\"))))\n",
    "df[[\"Address\",\"features\",\"House_type\"]]=df[[\"Address\",\"features\",\"House_type\"]].astype(str)\n",
    "\n",
    "## There might be a chance of a person placing the same advertisement multitple times on website. Hence we are removing the duplicates by keeping a copy of each.\n",
    "\n",
    "df.drop_duplicates(keep='first',inplace=True)\n",
    "\n",
    "\n",
    "## Load data to csv file\n",
    "\n",
    "df.to_csv(\"house_rentals.csv\",header=True,index=False,mode='w')\n",
    "\n",
    "## Filter the data by House type Apartment ( Our analysis is limited to apartments for now)\n",
    "\n",
    "df1=df[df[\"House_type\"]==\"Apartment\"]\n",
    "\n",
    "## check correlation between Target variable=Price and features = Area and number of bedrooms (pair wise correlation)\n",
    "\n",
    "corr_price_Area=df1[\"Price\"].corr(df1[\"Area\"],method='pearson')\n",
    "corr_price_bedrooms=df1[\"Price\"].corr(df1[\"Bedrooms\"],method='pearson')"
   ]
  },
  {
   "cell_type": "code",
   "execution_count": null,
   "metadata": {},
   "outputs": [],
   "source": [
    "## Created a line plot with dependent and indepeendent variable using matplotlib package. \n",
    "\n",
    "## Below step is just for plot style. There are many styles available , refer to documentation.\n",
    "\n",
    "plt.style.use(\"ggplot\")\n",
    "\n",
    "## Syntax to create line plot between Price and Area variables.\n",
    "\n",
    "plt.plot(df2[\"Price\"],df2[\"Area\"])\n",
    "plt.xlabel(\"Price\")\n",
    "plt.ylabel(\"Area\")\n",
    "plt.title(\"Price vs Area\")\n",
    "plt.save_fig(\"House_price_vs_Area.png\")"
   ]
  },
  {
   "cell_type": "code",
   "execution_count": null,
   "metadata": {},
   "outputs": [],
   "source": []
  }
 ],
 "metadata": {
  "kernelspec": {
   "display_name": "Python 3",
   "language": "python",
   "name": "python3"
  },
  "language_info": {
   "codemirror_mode": {
    "name": "ipython",
    "version": 3
   },
   "file_extension": ".py",
   "mimetype": "text/x-python",
   "name": "python",
   "nbconvert_exporter": "python",
   "pygments_lexer": "ipython3",
   "version": "3.7.1"
  }
 },
 "nbformat": 4,
 "nbformat_minor": 2
}
