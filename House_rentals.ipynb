{
 "cells": [
  {
   "cell_type": "markdown",
   "metadata": {},
   "source": [
    "# Analysing pattern of Apartment rentals in and around Nizampet\n",
    "\n",
    "**OBJECTIVE** : Analyzing the trends in Apartment rental prices (posted by house owners) and observe the correlation between prices and other features of house.\n",
    "    \n",
    "**STEPS** : To achieve the above task, we are supposed to perform A series of sub tasks. Below are the sub tasks:\n",
    "        \n",
    "            1) Data Collection\n",
    "            2) Data Pre processing and analysis\n",
    "            3) Data Visualization\n",
    "            \n",
    "We will go though each subtask in detail in below cells. Here we go :\n",
    " "
   ]
  },
  {
   "cell_type": "markdown",
   "metadata": {},
   "source": [
    "# T1 : Data Collection\n",
    "    \n",
    "Data collection is the first and foremost thing before we do anything. Data can be available in any format such files, database tables,audios,videos etc.\n",
    "\n",
    "However , in our case we dont have any prepared dataset to work with. Data related to our project is available on **Housing.com** website which is posted by house owners. Many more websites do have rental details but I found housing.com has more results set and hence i chose that.\n",
    "\n",
    "In general, If data is present on website ,then we need to extract infromation either using **API calls** or **scraping**. Since **Housing.com** didnt provide any API to access information and hence we will develop a **scraper** which can grab the infromation from website which we are looking for.\n",
    "\n",
    "Without wasting our time lets do some code\n",
    "    \n",
    "Before we code, make sure that below modules are installed in your environment. Im using CONDA environment and so most of the packages are pre installed. If you are working on some other environment which doesnt has these packages pre installed try below command in your command prompt line inorder to download them.\n",
    "    \n",
    "**pip install module name**\n"
   ]
  },
  {
   "cell_type": "code",
   "execution_count": 12,
   "metadata": {},
   "outputs": [],
   "source": [
    "from selenium import webdriver\n",
    "import time\n",
    "from bs4 import BeautifulSoup as bs\n",
    "import pandas as pd\n",
    "from matplotlib import pyplot as plt\n",
    "import html"
   ]
  },
  {
   "cell_type": "markdown",
   "metadata": {},
   "source": [
    "I have imported modules and now we will see why we need these modules. I will give a one line description about these packages:\n",
    "    \n",
    "**Selenium** : Used to automate web browsing operations such as opening,scrolling,click on links ,closing etc.. and extract the information stored in html tags using HTTP protocols.\n",
    "    \n",
    "**Time** : used to delay process in this project, but there is lot more scope so check documenation available for time module \n",
    "    \n",
    "**Beautiful soup**: used to extract information from websites\n",
    "    \n",
    "**Pandas** : used to perform exploratory analysis\n",
    "    \n",
    "**Matplotlib** : to create visual plots based on data\n",
    "    \n",
    "**HTML** : used to parse html tags in this project but there is lot more scope so check documenation available for html module\n",
    "        \n",
    "Coming to data collection part, we are using selenium to automate the opening ,scrolling down,extract page source (containing html tags) and closing page operations. Beautiful soup is to extract data from page source.\n",
    "\n",
    "We are looking to scrape information such as price,no of bedrooms,address,house type(apartments or independent houses or villas),Area and other details for each house listed on website.\n",
    "\n",
    "Here is **scraper** code :\n",
    "\n"
   ]
  },
  {
   "cell_type": "code",
   "execution_count": 13,
   "metadata": {},
   "outputs": [],
   "source": [
    "driver=webdriver.Chrome()\n",
    "\n",
    "driver.get(\"https://housing.com/rent/search-P1wkiyiuy2aujb8n2\")\n",
    "\n",
    "for i in range(1,15):\n",
    "    driver.execute_script(\"window.scrollTo(0, document.body.scrollHeight);\")\n",
    "    time.sleep(4)\n",
    "html=driver.page_source\n",
    "driver.close()\n",
    "page=bs(html,\"html.parser\")\n",
    "\n",
    "elements=page.findAll(\"article\",{\"class\":\"css-8jw9t9\"})\n",
    "\n",
    "records_set=[]\n",
    "for i in elements:\n",
    "    price=i.find(\"div\",{\"data-q\":\"price\"})\n",
    "    details=i.find(\"a\",{\"class\":\"css-dk6esa\"})\n",
    "    address=i.find(\"a\",{\"data-q\":\"address\"})\n",
    "    features=i.findAll(\"span\",{\"class\":\"css-1kdq3fk\"})\n",
    "    records_set.append([price.text,details.text,address.text,features[0].text,features[1].text])"
   ]
  },
  {
   "cell_type": "markdown",
   "metadata": {},
   "source": [
    "Above code performs the below tasks in sequential order :\n",
    "    \n",
    "1) Selecting the browser to open the website. Here you can select Firefox or chrome. (It automatically opens window)\n",
    "\n",
    "2) Enter url **Housing.com** in chrome window (automated)\n",
    "\n",
    "3) Scrolling down to the end of the page where no more loading happens. We usually see this in e commerce websites.\n",
    "\n",
    "4) Now the page is loaded completely, we extract page source (containing html tags and data embed)\n",
    "\n",
    "5) Close driver (now it automatically closes window if the above commands worked fine without error)\n",
    "\n",
    "6) Parse the page source using beautiful soup with html parser.\n",
    "\n",
    "7) Find the elements where the data resides in parsed page source.\n",
    "\n",
    "8) loop through elemnts and extract the data in form of 2d lists."
   ]
  },
  {
   "cell_type": "markdown",
   "metadata": {},
   "source": [
    "# T2: Data Pre processing and Data analysis\n",
    "\n",
    "This is the most important part of data analysis. We need to check for missing data or nulls, datatypes,duplicates etc.. to proceed to data analysis.\n",
    "\n",
    "Now that we have list as result from above code. We will import data to dataframe (table like structure) and specify field names."
   ]
  },
  {
   "cell_type": "code",
   "execution_count": 14,
   "metadata": {},
   "outputs": [
    {
     "name": "stdout",
     "output_type": "stream",
     "text": [
      "    Price                  Details  \\\n",
      "0  18,000          3 BHK Apartment   \n",
      "1  17,000          3 BHK Apartment   \n",
      "2  15,000          2 BHK Apartment   \n",
      "3   8,000  1 BHK Independent House   \n",
      "4   9,500          1 BHK Apartment   \n",
      "\n",
      "                                             Address        features  \\\n",
      "0                     Vasanth Nagar Colony, Nizampet  Semi Furnished   \n",
      "1  Nizampet , Adithya Nagar, Pragathi Nagar Rd, S...  Semi Furnished   \n",
      "2                        Ram Naresh Colony, Nizampet     Unfurnished   \n",
      "3                        Ram Naresh Colony, Nizampet     Unfurnished   \n",
      "4                          Nizampet X Road, Nizampet     Unfurnished   \n",
      "\n",
      "         Area  \n",
      "0  1600 sq.ft  \n",
      "1  1150 sq.ft  \n",
      "2  1200 sq.ft  \n",
      "3   700 sq.ft  \n",
      "4   650 sq.ft  \n"
     ]
    }
   ],
   "source": [
    "df=pd.DataFrame(records_set)\n",
    "df.columns=[\"Price\",\"Details\",\"Address\",\"features\",\"Area\"]\n",
    "print(df.head())"
   ]
  },
  {
   "cell_type": "markdown",
   "metadata": {},
   "source": [
    "Now we will see for nulls in data throughout the dataframe. so we are using describe function to get counts"
   ]
  },
  {
   "cell_type": "code",
   "execution_count": 15,
   "metadata": {},
   "outputs": [
    {
     "name": "stdout",
     "output_type": "stream",
     "text": [
      "         Price          Details                         Address  \\\n",
      "count      112              112                             112   \n",
      "unique      27               12                              67   \n",
      "top     15,000  2 BHK Apartment  Vasanth Nagar Colony, Nizampet   \n",
      "freq        18               49                              21   \n",
      "\n",
      "              features        Area  \n",
      "count              112         112  \n",
      "unique               3          51  \n",
      "top     Semi Furnished  1100 sq.ft  \n",
      "freq                54          13  \n"
     ]
    }
   ],
   "source": [
    "print(df.describe())"
   ]
  },
  {
   "cell_type": "markdown",
   "metadata": {},
   "source": [
    "So it seems like the counts are equal for all columns so we dont have any missing values. Thats great !\n",
    "\n",
    "Now lets proceed further casting datatypes to perform some numerical operations\n"
   ]
  },
  {
   "cell_type": "code",
   "execution_count": 16,
   "metadata": {},
   "outputs": [],
   "source": [
    "df[\"Bedrooms\"]=df[\"Details\"].apply(lambda x:int(x.split(\" \")[0]))\n",
    "df[\"House_type\"]=df[\"Details\"].apply(lambda x:x.split(\" \")[2])\n",
    "df.drop(columns=[\"Details\"],inplace=True)\n",
    "df[\"Area\"]=df[\"Area\"].apply(lambda x:float(x.split(\" \")[0]))\n",
    "df[\"Price\"]=df[\"Price\"].apply(lambda x:int(\"\".join(x.split(\",\"))))\n",
    "df[[\"Address\",\"features\",\"House_type\"]]=df[[\"Address\",\"features\",\"House_type\"]].astype(str)"
   ]
  },
  {
   "cell_type": "markdown",
   "metadata": {},
   "source": [
    "There might be a chance of a person placing the same advertisement multiple times on website. Hence we are removing the duplicates."
   ]
  },
  {
   "cell_type": "code",
   "execution_count": 17,
   "metadata": {},
   "outputs": [],
   "source": [
    "df.drop_duplicates(keep='first',inplace=True)"
   ]
  },
  {
   "cell_type": "markdown",
   "metadata": {},
   "source": [
    "Load data to csv file. Its always good practice to keep files as logs for further analysis. Howver we will work on existing data frames in further analysis."
   ]
  },
  {
   "cell_type": "code",
   "execution_count": 18,
   "metadata": {},
   "outputs": [],
   "source": [
    "df.to_csv(\"house_rentals.csv\",header=True,index=False,mode='w')"
   ]
  },
  {
   "cell_type": "markdown",
   "metadata": {},
   "source": [
    "Filter the data by House type Apartment ( Our analysis is limited to apartments for now).\n",
    "\n",
    "Check correlation between Target variable=Price and features = Area and number of bedrooms (pair wise correlation)"
   ]
  },
  {
   "cell_type": "code",
   "execution_count": 19,
   "metadata": {},
   "outputs": [
    {
     "name": "stdout",
     "output_type": "stream",
     "text": [
      "             Price      Area  Bedrooms\n",
      "Price     1.000000  0.619607  0.429418\n",
      "Area      0.619607  1.000000  0.744188\n",
      "Bedrooms  0.429418  0.744188  1.000000\n"
     ]
    }
   ],
   "source": [
    "df1=df[df[\"House_type\"]==\"Apartment\"]\n",
    "print(df1.corr())"
   ]
  },
  {
   "cell_type": "markdown",
   "metadata": {},
   "source": [
    "**Below are my observations**:(after checking correlation matrix)\n",
    "\n",
    "1) It is clear that feature Area and Bedrooms has strong relationship. But it is pretty much expected that when number of Bedrooms increases Area does increase.\n",
    "\n",
    "2) When it comes to relation with Price, both has positive relationship. However Area has more correlation with Price than number of bedrooms. Hence we can say Area is feature which affects the price. But this inference is pretty much expected as Area increases, price do increase."
   ]
  },
  {
   "cell_type": "markdown",
   "metadata": {},
   "source": [
    "# T3 : Data Visualization\n",
    "\n",
    "Previously we formulated a correlations table and drawn some insights from it. However correlations doesnt say everything about data untill we visualize \n",
    "\n",
    "This task is something which we cant ignore because this is the only way we can show our business clients about the data we worked on. Numbers are helpful but without plot, it doesnt make any sense. \n",
    "\n",
    "If we miss this out, there is a chance of losing some critical infromation which numbers didnt say. So its must and should for every analyst to work on.\n",
    "\n",
    "Coming back to topic, there is correlation matrix but I want to visualize it to see how well they are correlated. For now we will see correlation between price and other variables."
   ]
  },
  {
   "cell_type": "code",
   "execution_count": 21,
   "metadata": {},
   "outputs": [
    {
     "data": {
      "image/png": "[encoded data removed]",
      "text/plain": [
       "<Figure size 432x288 with 1 Axes>"
      ]
     },
     "metadata": {},
     "output_type": "display_data"
    }
   ],
   "source": [
    "plt.style.use(\"ggplot\")\n",
    "\n",
    "df2=df1.sort_values(\"Price\",ascending=False)\n",
    "\n",
    "plt.scatter(df2[\"Price\"],df2[\"Area\"])\n",
    "plt.xlabel(\"Price\")\n",
    "plt.ylabel(\"Area\")\n",
    "plt.ylim(500,2500)\n",
    "plt.title(\"Price vs Area\")\n",
    "plt.savefig(\"House_price_vs_Area.png\")\n"
   ]
  },
  {
   "cell_type": "markdown",
   "metadata": {},
   "source": [
    "We plotted Price and Area information on **scatter** plot to see how data points are spread out. \n",
    "\n",
    "**Below are my observations** :\n",
    "\n",
    "1) All I see there is , we cant really fit a linear curve passing though all data points. So that means the relation between Area and price might not be linear or proportional ( Its just a guess for now) . We need to draw a regression line and see which has correct fit and what would be ideal for this scenario.\n",
    "\n",
    "2) There is very less data available for Apartments of Area greater than 2000 sq ft and above. So it is difficult to analyze these data points but we will see what we can do about them.\n",
    "\n",
    "3) Most of the data is between 500 and 1700 sqft Area Apartments. So if the customer is looking for this particular range of house area, it will be easy for us to suggest them the best house for best price. We need to check the anomalies present (i.e) If a house rent is cheap when compared to others we need to realize, what would be the reasons to be that way. If ther is no obligation or so it might become a good option for customers. "
   ]
  }
 ],
 "metadata": {
  "kernelspec": {
   "display_name": "Python 3",
   "language": "python",
   "name": "python3"
  },
  "language_info": {
   "codemirror_mode": {
    "name": "ipython",
    "version": 3
   },
   "file_extension": ".py",
   "mimetype": "text/x-python",
   "name": "python",
   "nbconvert_exporter": "python",
   "pygments_lexer": "ipython3",
   "version": "3.7.4"
  }
 },
 "nbformat": 4,
 "nbformat_minor": 2
}
